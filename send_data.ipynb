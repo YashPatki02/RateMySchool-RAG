{
 "cells": [
  {
   "cell_type": "markdown",
   "metadata": {},
   "source": [
    "## Notebook to Load Data into Pinecone"
   ]
  },
  {
   "cell_type": "code",
   "execution_count": 9,
   "metadata": {},
   "outputs": [
    {
     "data": {
      "text/plain": [
       "True"
      ]
     },
     "execution_count": 9,
     "metadata": {},
     "output_type": "execute_result"
    }
   ],
   "source": [
    "from dotenv import load_dotenv\n",
    "import os\n",
    "from openai import OpenAI\n",
    "from pinecone import Pinecone, ServerlessSpec\n",
    "\n",
    "load_dotenv()"
   ]
  },
  {
   "cell_type": "markdown",
   "metadata": {},
   "source": [
    "### Setup Pinecone"
   ]
  },
  {
   "cell_type": "code",
   "execution_count": 8,
   "metadata": {},
   "outputs": [],
   "source": [
    "pc = Pinecone(api_key=os.getenv(\"PINECONE_API_KEY\"))\n",
    "pc.create_index(\n",
    "    name=\"rms-rag\", \n",
    "    dimension=1536,\n",
    "    metric=\"cosine\",\n",
    "    spec=ServerlessSpec(cloud=\"aws\", region=\"us-east-1\")\n",
    "    )"
   ]
  },
  {
   "cell_type": "markdown",
   "metadata": {},
   "source": [
    "## Import JSON data - JSONLoader LangChain"
   ]
  },
  {
   "cell_type": "code",
   "execution_count": null,
   "metadata": {},
   "outputs": [],
   "source": [
    "import json\n",
    "from langchain_community.document_loaders import JSONLoader\n",
    "from pathlib import Path\n",
    "from pprint import pprint\n",
    "\n",
    "# Load the documents\n",
    "file_path='./reviews.json'\n",
    "data = json.loads(Path(file_path).read_text())\n",
    "pprint(data)"
   ]
  },
  {
   "cell_type": "code",
   "execution_count": 34,
   "metadata": {},
   "outputs": [
    {
     "name": "stdout",
     "output_type": "stream",
     "text": [
      "[Document(metadata={'source': 'C:\\\\Users\\\\yasho\\\\Documents\\\\Computer Science\\\\HeadstarterAI\\\\RateMySchool-RAG\\\\reviews.json', 'seq_num': 1, 'school': 'University of California, Berkeley'}, page_content='{\"school\": \"University of California, Berkeley\", \"comment\": \"I had a great experience at this school. The professors were knowledgeable and supportive.\", \"overall_rating\": 4, \"individual_ratings\": {\"professors\": 4, \"campus\": 4, \"food\": 3, \"social_life\": 4}, \"date\": \"2016-05-02\"}'),\n",
      " Document(metadata={'source': 'C:\\\\Users\\\\yasho\\\\Documents\\\\Computer Science\\\\HeadstarterAI\\\\RateMySchool-RAG\\\\reviews.json', 'seq_num': 2, 'school': 'University of California, Berkeley'}, page_content='{\"school\": \"University of California, Berkeley\", \"comment\": \"This school exceeded my expectations. The campus is beautiful and the social life is vibrant.\", \"overall_rating\": 5, \"individual_ratings\": {\"professors\": 5, \"campus\": 5, \"food\": 4, \"social_life\": 5}, \"date\": \"2016-05-03\"}'),\n",
      " Document(metadata={'source': 'C:\\\\Users\\\\yasho\\\\Documents\\\\Computer Science\\\\HeadstarterAI\\\\RateMySchool-RAG\\\\reviews.json', 'seq_num': 3, 'school': 'University of California, Berkeley'}, page_content='{\"school\": \"University of California, Berkeley\", \"comment\": \"I had a mixed experience at this school. Some professors were great, while others were not.\", \"overall_rating\": 3, \"individual_ratings\": {\"professors\": 3, \"campus\": 4, \"food\": 3, \"social_life\": 3}, \"date\": \"2016-05-04\"}'),\n",
      " Document(metadata={'source': 'C:\\\\Users\\\\yasho\\\\Documents\\\\Computer Science\\\\HeadstarterAI\\\\RateMySchool-RAG\\\\reviews.json', 'seq_num': 4, 'school': 'University of California, Berkeley'}, page_content='{\"school\": \"University of California, Berkeley\", \"comment\": \"The campus is stunning and the professors are top-notch. I highly recommend this school.\", \"overall_rating\": 5, \"individual_ratings\": {\"professors\": 5, \"campus\": 5, \"food\": 4, \"social_life\": 5}, \"date\": \"2016-05-05\"}'),\n",
      " Document(metadata={'source': 'C:\\\\Users\\\\yasho\\\\Documents\\\\Computer Science\\\\HeadstarterAI\\\\RateMySchool-RAG\\\\reviews.json', 'seq_num': 5, 'school': 'University of California, Berkeley'}, page_content='{\"school\": \"University of California, Berkeley\", \"comment\": \"I had a great time at this school. The food options could be better, but overall it was a positive experience.\", \"overall_rating\": 4, \"individual_ratings\": {\"professors\": 4, \"campus\": 4, \"food\": 3, \"social_life\": 4}, \"date\": \"2016-05-06\"}'),\n",
      " Document(metadata={'source': 'C:\\\\Users\\\\yasho\\\\Documents\\\\Computer Science\\\\HeadstarterAI\\\\RateMySchool-RAG\\\\reviews.json', 'seq_num': 6, 'school': 'University of California, Berkeley'}, page_content='{\"school\": \"University of California, Berkeley\", \"comment\": \"This school has a lot to offer. The professors are knowledgeable and the campus is beautiful.\", \"overall_rating\": 4, \"individual_ratings\": {\"professors\": 4, \"campus\": 5, \"food\": 3, \"social_life\": 4}, \"date\": \"2016-05-07\"}'),\n",
      " Document(metadata={'source': 'C:\\\\Users\\\\yasho\\\\Documents\\\\Computer Science\\\\HeadstarterAI\\\\RateMySchool-RAG\\\\reviews.json', 'seq_num': 7, 'school': 'University of California, Berkeley'}, page_content='{\"school\": \"University of California, Berkeley\", \"comment\": \"I had a great experience at this school. The professors were engaging and the social life was vibrant.\", \"overall_rating\": 5, \"individual_ratings\": {\"professors\": 5, \"campus\": 4, \"food\": 4, \"social_life\": 5}, \"date\": \"2016-05-08\"}'),\n",
      " Document(metadata={'source': 'C:\\\\Users\\\\yasho\\\\Documents\\\\Computer Science\\\\HeadstarterAI\\\\RateMySchool-RAG\\\\reviews.json', 'seq_num': 8, 'school': 'University of California, Berkeley'}, page_content='{\"school\": \"University of California, Berkeley\", \"comment\": \"This school provided me with a well-rounded education. The professors were knowledgeable and the campus was beautiful.\", \"overall_rating\": 5, \"individual_ratings\": {\"professors\": 5, \"campus\": 5, \"food\": 4, \"social_life\": 5}, \"date\": \"2016-05-09\"}'),\n",
      " Document(metadata={'source': 'C:\\\\Users\\\\yasho\\\\Documents\\\\Computer Science\\\\HeadstarterAI\\\\RateMySchool-RAG\\\\reviews.json', 'seq_num': 9, 'school': 'University of California, Berkeley'}, page_content='{\"school\": \"University of California, Berkeley\", \"comment\": \"I had a mixed experience at this school. Some professors were great, while others were not.\", \"overall_rating\": 3, \"individual_ratings\": {\"professors\": 3, \"campus\": 4, \"food\": 3, \"social_life\": 3}, \"date\": \"2016-05-10\"}'),\n",
      " Document(metadata={'source': 'C:\\\\Users\\\\yasho\\\\Documents\\\\Computer Science\\\\HeadstarterAI\\\\RateMySchool-RAG\\\\reviews.json', 'seq_num': 10, 'school': 'University of California, Berkeley'}, page_content='{\"school\": \"University of California, Berkeley\", \"comment\": \"The campus is stunning and the professors are top-notch. I highly recommend this school.\", \"overall_rating\": 5, \"individual_ratings\": {\"professors\": 5, \"campus\": 5, \"food\": 4, \"social_life\": 5}, \"date\": \"2016-05-11\"}'),\n",
      " Document(metadata={'source': 'C:\\\\Users\\\\yasho\\\\Documents\\\\Computer Science\\\\HeadstarterAI\\\\RateMySchool-RAG\\\\reviews.json', 'seq_num': 11, 'school': 'University of California, Berkeley'}, page_content='{\"school\": \"University of California, Berkeley\", \"comment\": \"I had a great time at this school. The food options could be better, but overall it was a positive experience.\", \"overall_rating\": 4, \"individual_ratings\": {\"professors\": 4, \"campus\": 4, \"food\": 3, \"social_life\": 4}, \"date\": \"2016-05-12\"}'),\n",
      " Document(metadata={'source': 'C:\\\\Users\\\\yasho\\\\Documents\\\\Computer Science\\\\HeadstarterAI\\\\RateMySchool-RAG\\\\reviews.json', 'seq_num': 12, 'school': 'University of California, Berkeley'}, page_content='{\"school\": \"University of California, Berkeley\", \"comment\": \"This school has a lot to offer. The professors are knowledgeable and the campus is beautiful.\", \"overall_rating\": 4, \"individual_ratings\": {\"professors\": 4, \"campus\": 5, \"food\": 3, \"social_life\": 4}, \"date\": \"2016-05-13\"}'),\n",
      " Document(metadata={'source': 'C:\\\\Users\\\\yasho\\\\Documents\\\\Computer Science\\\\HeadstarterAI\\\\RateMySchool-RAG\\\\reviews.json', 'seq_num': 13, 'school': 'University of California, Berkeley'}, page_content='{\"school\": \"University of California, Berkeley\", \"comment\": \"I had a great experience at this school. The professors were engaging and the social life was vibrant.\", \"overall_rating\": 5, \"individual_ratings\": {\"professors\": 5, \"campus\": 4, \"food\": 4, \"social_life\": 5}, \"date\": \"2016-05-14\"}'),\n",
      " Document(metadata={'source': 'C:\\\\Users\\\\yasho\\\\Documents\\\\Computer Science\\\\HeadstarterAI\\\\RateMySchool-RAG\\\\reviews.json', 'seq_num': 14, 'school': 'University of California, Berkeley'}, page_content='{\"school\": \"University of California, Berkeley\", \"comment\": \"This school provided me with a well-rounded education. The professors were knowledgeable and the campus was beautiful.\", \"overall_rating\": 5, \"individual_ratings\": {\"professors\": 5, \"campus\": 5, \"food\": 4, \"social_life\": 5}, \"date\": \"2016-05-15\"}'),\n",
      " Document(metadata={'source': 'C:\\\\Users\\\\yasho\\\\Documents\\\\Computer Science\\\\HeadstarterAI\\\\RateMySchool-RAG\\\\reviews.json', 'seq_num': 15, 'school': 'University of California, Berkeley'}, page_content='{\"school\": \"University of California, Berkeley\", \"comment\": \"I had a mixed experience at this school. Some professors were great, while others were not.\", \"overall_rating\": 3, \"individual_ratings\": {\"professors\": 3, \"campus\": 4, \"food\": 3, \"social_life\": 3}, \"date\": \"2016-05-16\"}'),\n",
      " Document(metadata={'source': 'C:\\\\Users\\\\yasho\\\\Documents\\\\Computer Science\\\\HeadstarterAI\\\\RateMySchool-RAG\\\\reviews.json', 'seq_num': 16, 'school': 'University of California, Berkeley'}, page_content='{\"school\": \"University of California, Berkeley\", \"comment\": \"The campus is stunning and the professors are top-notch. I highly recommend this school.\", \"overall_rating\": 5, \"individual_ratings\": {\"professors\": 5, \"campus\": 5, \"food\": 4, \"social_life\": 5}, \"date\": \"2016-05-17\"}'),\n",
      " Document(metadata={'source': 'C:\\\\Users\\\\yasho\\\\Documents\\\\Computer Science\\\\HeadstarterAI\\\\RateMySchool-RAG\\\\reviews.json', 'seq_num': 17, 'school': 'University of California, Berkeley'}, page_content='{\"school\": \"University of California, Berkeley\", \"comment\": \"I had a great time at this school. The food options could be better, but overall it was a positive experience.\", \"overall_rating\": 4, \"individual_ratings\": {\"professors\": 4, \"campus\": 4, \"food\": 3, \"social_life\": 4}, \"date\": \"2016-05-18\"}'),\n",
      " Document(metadata={'source': 'C:\\\\Users\\\\yasho\\\\Documents\\\\Computer Science\\\\HeadstarterAI\\\\RateMySchool-RAG\\\\reviews.json', 'seq_num': 18, 'school': 'University of California, Berkeley'}, page_content='{\"school\": \"University of California, Berkeley\", \"comment\": \"This school has a lot to offer. The professors are knowledgeable and the campus is beautiful.\", \"overall_rating\": 4, \"individual_ratings\": {\"professors\": 4, \"campus\": 5, \"food\": 3, \"social_life\": 4}, \"date\": \"2016-05-19\"}'),\n",
      " Document(metadata={'source': 'C:\\\\Users\\\\yasho\\\\Documents\\\\Computer Science\\\\HeadstarterAI\\\\RateMySchool-RAG\\\\reviews.json', 'seq_num': 19, 'school': 'University of California, Berkeley'}, page_content='{\"school\": \"University of California, Berkeley\", \"comment\": \"I had a great experience at this school. The professors were engaging and the social life was vibrant.\", \"overall_rating\": 5, \"individual_ratings\": {\"professors\": 5, \"campus\": 4, \"food\": 4, \"social_life\": 5}, \"date\": \"2016-05-20\"}')]\n"
     ]
    }
   ],
   "source": [
    "def metadata_func(record: dict, metadata: dict) -> dict:\n",
    "    # metadata[\"source\"] = \"facebook\" \n",
    "    metadata[\"school\"] = record.get(\"school\")\n",
    "    # metadata[\"comment\"] = record.get(\"comment\")\n",
    "    return metadata\n",
    "\n",
    "loader = JSONLoader(\n",
    "    file_path='./reviews.json',\n",
    "    jq_schema='.reviews[]',\n",
    "    text_content=False,\n",
    "    metadata_func=metadata_func\n",
    ")\n",
    "\n",
    "data = loader.load()\n",
    "pprint(data)"
   ]
  },
  {
   "cell_type": "markdown",
   "metadata": {},
   "source": [
    "## JSON Data - Tutorial"
   ]
  },
  {
   "cell_type": "code",
   "execution_count": 30,
   "metadata": {},
   "outputs": [
    {
     "data": {
      "text/plain": [
       "[{'school': 'University of California, Berkeley',\n",
       "  'comment': 'I had a great experience at this school. The professors were knowledgeable and supportive.',\n",
       "  'overall_rating': 4,\n",
       "  'individual_ratings': {'professors': 4,\n",
       "   'campus': 4,\n",
       "   'food': 3,\n",
       "   'social_life': 4},\n",
       "  'date': '2016-05-02'},\n",
       " {'school': 'University of California, Berkeley',\n",
       "  'comment': 'This school exceeded my expectations. The campus is beautiful and the social life is vibrant.',\n",
       "  'overall_rating': 5,\n",
       "  'individual_ratings': {'professors': 5,\n",
       "   'campus': 5,\n",
       "   'food': 4,\n",
       "   'social_life': 5},\n",
       "  'date': '2016-05-03'},\n",
       " {'school': 'University of California, Berkeley',\n",
       "  'comment': 'I had a mixed experience at this school. Some professors were great, while others were not.',\n",
       "  'overall_rating': 3,\n",
       "  'individual_ratings': {'professors': 3,\n",
       "   'campus': 4,\n",
       "   'food': 3,\n",
       "   'social_life': 3},\n",
       "  'date': '2016-05-04'},\n",
       " {'school': 'University of California, Berkeley',\n",
       "  'comment': 'The campus is stunning and the professors are top-notch. I highly recommend this school.',\n",
       "  'overall_rating': 5,\n",
       "  'individual_ratings': {'professors': 5,\n",
       "   'campus': 5,\n",
       "   'food': 4,\n",
       "   'social_life': 5},\n",
       "  'date': '2016-05-05'},\n",
       " {'school': 'University of California, Berkeley',\n",
       "  'comment': 'I had a great time at this school. The food options could be better, but overall it was a positive experience.',\n",
       "  'overall_rating': 4,\n",
       "  'individual_ratings': {'professors': 4,\n",
       "   'campus': 4,\n",
       "   'food': 3,\n",
       "   'social_life': 4},\n",
       "  'date': '2016-05-06'},\n",
       " {'school': 'University of California, Berkeley',\n",
       "  'comment': 'This school has a lot to offer. The professors are knowledgeable and the campus is beautiful.',\n",
       "  'overall_rating': 4,\n",
       "  'individual_ratings': {'professors': 4,\n",
       "   'campus': 5,\n",
       "   'food': 3,\n",
       "   'social_life': 4},\n",
       "  'date': '2016-05-07'},\n",
       " {'school': 'University of California, Berkeley',\n",
       "  'comment': 'I had a great experience at this school. The professors were engaging and the social life was vibrant.',\n",
       "  'overall_rating': 5,\n",
       "  'individual_ratings': {'professors': 5,\n",
       "   'campus': 4,\n",
       "   'food': 4,\n",
       "   'social_life': 5},\n",
       "  'date': '2016-05-08'},\n",
       " {'school': 'University of California, Berkeley',\n",
       "  'comment': 'This school provided me with a well-rounded education. The professors were knowledgeable and the campus was beautiful.',\n",
       "  'overall_rating': 5,\n",
       "  'individual_ratings': {'professors': 5,\n",
       "   'campus': 5,\n",
       "   'food': 4,\n",
       "   'social_life': 5},\n",
       "  'date': '2016-05-09'},\n",
       " {'school': 'University of California, Berkeley',\n",
       "  'comment': 'I had a mixed experience at this school. Some professors were great, while others were not.',\n",
       "  'overall_rating': 3,\n",
       "  'individual_ratings': {'professors': 3,\n",
       "   'campus': 4,\n",
       "   'food': 3,\n",
       "   'social_life': 3},\n",
       "  'date': '2016-05-10'},\n",
       " {'school': 'University of California, Berkeley',\n",
       "  'comment': 'The campus is stunning and the professors are top-notch. I highly recommend this school.',\n",
       "  'overall_rating': 5,\n",
       "  'individual_ratings': {'professors': 5,\n",
       "   'campus': 5,\n",
       "   'food': 4,\n",
       "   'social_life': 5},\n",
       "  'date': '2016-05-11'},\n",
       " {'school': 'University of California, Berkeley',\n",
       "  'comment': 'I had a great time at this school. The food options could be better, but overall it was a positive experience.',\n",
       "  'overall_rating': 4,\n",
       "  'individual_ratings': {'professors': 4,\n",
       "   'campus': 4,\n",
       "   'food': 3,\n",
       "   'social_life': 4},\n",
       "  'date': '2016-05-12'},\n",
       " {'school': 'University of California, Berkeley',\n",
       "  'comment': 'This school has a lot to offer. The professors are knowledgeable and the campus is beautiful.',\n",
       "  'overall_rating': 4,\n",
       "  'individual_ratings': {'professors': 4,\n",
       "   'campus': 5,\n",
       "   'food': 3,\n",
       "   'social_life': 4},\n",
       "  'date': '2016-05-13'},\n",
       " {'school': 'University of California, Berkeley',\n",
       "  'comment': 'I had a great experience at this school. The professors were engaging and the social life was vibrant.',\n",
       "  'overall_rating': 5,\n",
       "  'individual_ratings': {'professors': 5,\n",
       "   'campus': 4,\n",
       "   'food': 4,\n",
       "   'social_life': 5},\n",
       "  'date': '2016-05-14'},\n",
       " {'school': 'University of California, Berkeley',\n",
       "  'comment': 'This school provided me with a well-rounded education. The professors were knowledgeable and the campus was beautiful.',\n",
       "  'overall_rating': 5,\n",
       "  'individual_ratings': {'professors': 5,\n",
       "   'campus': 5,\n",
       "   'food': 4,\n",
       "   'social_life': 5},\n",
       "  'date': '2016-05-15'},\n",
       " {'school': 'University of California, Berkeley',\n",
       "  'comment': 'I had a mixed experience at this school. Some professors were great, while others were not.',\n",
       "  'overall_rating': 3,\n",
       "  'individual_ratings': {'professors': 3,\n",
       "   'campus': 4,\n",
       "   'food': 3,\n",
       "   'social_life': 3},\n",
       "  'date': '2016-05-16'},\n",
       " {'school': 'University of California, Berkeley',\n",
       "  'comment': 'The campus is stunning and the professors are top-notch. I highly recommend this school.',\n",
       "  'overall_rating': 5,\n",
       "  'individual_ratings': {'professors': 5,\n",
       "   'campus': 5,\n",
       "   'food': 4,\n",
       "   'social_life': 5},\n",
       "  'date': '2016-05-17'},\n",
       " {'school': 'University of California, Berkeley',\n",
       "  'comment': 'I had a great time at this school. The food options could be better, but overall it was a positive experience.',\n",
       "  'overall_rating': 4,\n",
       "  'individual_ratings': {'professors': 4,\n",
       "   'campus': 4,\n",
       "   'food': 3,\n",
       "   'social_life': 4},\n",
       "  'date': '2016-05-18'},\n",
       " {'school': 'University of California, Berkeley',\n",
       "  'comment': 'This school has a lot to offer. The professors are knowledgeable and the campus is beautiful.',\n",
       "  'overall_rating': 4,\n",
       "  'individual_ratings': {'professors': 4,\n",
       "   'campus': 5,\n",
       "   'food': 3,\n",
       "   'social_life': 4},\n",
       "  'date': '2016-05-19'},\n",
       " {'school': 'University of California, Berkeley',\n",
       "  'comment': 'I had a great experience at this school. The professors were engaging and the social life was vibrant.',\n",
       "  'overall_rating': 5,\n",
       "  'individual_ratings': {'professors': 5,\n",
       "   'campus': 4,\n",
       "   'food': 4,\n",
       "   'social_life': 5},\n",
       "  'date': '2016-05-20'}]"
      ]
     },
     "execution_count": 30,
     "metadata": {},
     "output_type": "execute_result"
    }
   ],
   "source": [
    "import json\n",
    "data = json.load(open(\"reviews.json\"))\n",
    "data[\"reviews\"]"
   ]
  }
 ],
 "metadata": {
  "kernelspec": {
   "display_name": "Python 3",
   "language": "python",
   "name": "python3"
  },
  "language_info": {
   "codemirror_mode": {
    "name": "ipython",
    "version": 3
   },
   "file_extension": ".py",
   "mimetype": "text/x-python",
   "name": "python",
   "nbconvert_exporter": "python",
   "pygments_lexer": "ipython3",
   "version": "3.12.5"
  }
 },
 "nbformat": 4,
 "nbformat_minor": 2
}
